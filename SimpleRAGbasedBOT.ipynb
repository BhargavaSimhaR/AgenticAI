{
  "nbformat": 4,
  "nbformat_minor": 0,
  "metadata": {
    "colab": {
      "provenance": [],
      "mount_file_id": "1K38qakjnMLaLVmzgN0qQYca7XAy9LUQi",
      "authorship_tag": "ABX9TyMZieGtUgg4e+tT+NDeabQT",
      "include_colab_link": true
    },
    "kernelspec": {
      "name": "python3",
      "display_name": "Python 3"
    },
    "language_info": {
      "name": "python"
    }
  },
  "cells": [
    {
      "cell_type": "markdown",
      "metadata": {
        "id": "view-in-github",
        "colab_type": "text"
      },
      "source": [
        "<a href=\"https://colab.research.google.com/github/BhargavaSimhaR/AgenticAI/blob/main/SimpleRAGbasedBOT.ipynb\" target=\"_parent\"><img src=\"https://colab.research.google.com/assets/colab-badge.svg\" alt=\"Open In Colab\"/></a>"
      ]
    },
    {
      "cell_type": "code",
      "execution_count": null,
      "metadata": {
        "id": "itGvlxW3cCc6"
      },
      "outputs": [],
      "source": [
        "from langchain.document_loaders import PyPDFLoader\n",
        "from langchain.text_splitter import RecursiveCharacterTextSplitter\n",
        "from langchain.embeddings import HuggingFaceEmbeddings\n",
        "from langchain.vectorstores import FAISS\n",
        "from langchain.chains.question_answering import load_qa_chain\n",
        "from langchain.llms import HuggingFaceHub,HuggingFacePipeline\n",
        "from langchain.chains import RetrievalQA"
      ]
    },
    {
      "cell_type": "code",
      "source": [
        "import os\n",
        "import warnings\n",
        "from transformers import logging\n",
        "\n",
        "# Suppress warnings\n",
        "warnings.filterwarnings(\"ignore\", category=FutureWarning)\n",
        "warnings.filterwarnings(\"ignore\", category=UserWarning)\n",
        "\n",
        "# Reduce verbosity of HuggingFace logs\n",
        "logging.set_verbosity_error()\n",
        "\n",
        "# Optional: Environment config\n",
        "os.environ[\"TRANSFORMERS_VERBOSITY\"] = \"error\"\n",
        "os.environ[\"TOKENIZERS_PARALLELISM\"] = \"false\""
      ],
      "metadata": {
        "id": "KidEwo1Rwmli"
      },
      "execution_count": null,
      "outputs": []
    },
    {
      "cell_type": "code",
      "source": [
        "from langchain.schema import Document\n",
        "\n",
        "# Manual context input instead of PDF\n",
        "manual_text = \"\"\"\n",
        "MODULE-3\n",
        "\n",
        "Intrusion Detection Host -Based Intrusion Detection – Network -Based\n",
        "Intrusion Detection – Distributed or Hybrid Intrusion Detection – Intrusion\n",
        "Detection Exchange Format – Honeypots – Example System Snort\n",
        "\n",
        "What is Intrusion?\n",
        "\n",
        "• Cyber Intrusion is to compromise a computer system by breaking the\n",
        "security of such a system or causing it to enter into an insecure state\n",
        "• Some intruders will try to implant code that has been carefully\n",
        "developed. Others will infiltrate the network, stealthily siphoning out\n",
        "data on a regular basis or altering public-facing Web sites with varied\n",
        "messages.\n",
        "• An attacker can acquire physical access to your system (by physically\n",
        "accessing a restricted computer and its hard drive and/or BIOS),\n",
        "externally (by assaulting your Web servers or breaching your firewall),\n",
        "or internally (by physically accessing a restricted machine and its hard\n",
        "disc and/or BIOS) (your own users, customers, or partners)\n",
        "\n",
        "Broad classes of Intruders\n",
        "• Cyber criminals: Are either individuals or members of an organized crime group with a goal of financial reward. To achieve this, their activities may include identity theft, theft of financial credentials, corporate espionage, data theft, or data ransoming.\n",
        "• Activists: Are either individuals, usually working as insiders, or members of a larger group of outsider attackers, who are motivated by social or political causes. They are also known as hacktivists, and their skill level is often quite low.\n",
        "• State-sponsored organizations: Are groups of hackers sponsored by governments to conduct espionage or sabotage activities. They are also known as Advanced Persistent Threats (APTs), due to the covert nature and persistence over extended periods involved with many attacks in this class.\n",
        "• Apprentice: Hackers with minimal technical skill who primarily use existing attack toolkits. They likely comprise the largest number of attackers, including many criminal and activist attackers. Given their use of existing known tools, these attackers are the easiest to defend against. They are also known as “script-kiddies” due to their use of existing scripts (tools).\n",
        "• Journeyman: Hackers with sufficient technical skills to modify and extend attack toolkits to use newly discovered, or purchased, vulnerabilities; or to focus on different target groups. They may also be able to locate new vulnerabilities to exploit that are similar to some already known. A number of hackers with such skills are likely found in all intruder classes listed above, adapting tools for use by others.\n",
        "• Master: Hackers with high-level technical skills capable of discovering brand new categories of vulnerabilities, or writing new powerful attack toolkits\n",
        "\n",
        "Examples of Intrusion\n",
        "\n",
        "Intruder Behaviour\n",
        "Target Acquisition and Information Gathering: Where the attacker identifies and characterizes the target systems using publicly available information, both technical and non-technical, and the use network exploration tools to map target resources\n",
        "Initial Access: The initial access to a target system, typically by exploiting a remote network vulnerability, by guessing weak authentication credentials used in a remote service, or via the installation of malware on the system using some form of social engineering or drive-by- download attack\n",
        "Privilege Escalation: Actions taken on the system, typically via a local access vulnerability to increase the privileges available to the attacker to enable their desired goals on the target\n",
        "system.\n",
        "Information Gathering or System Exploit: Actions by the attacker to access or modify information or resources on the system, or to navigate to another target system.\n",
        "Maintaining Access: Actions such as the installation of backdoors or other malicious software as we discuss in Chapter 6, or through the addition of covert authentication credentials or other configuration changes to the system, to enable continued access by the attacker after the initial attack.\n",
        "Covering Tracks: Where the attacker disables or edits audit logs, to remove evidence of attack activity, and uses rootkits and other measures to hide covertly installed files or code\n",
        "\n",
        "Intrusion Detection\n",
        "\n",
        "An IDS comprises three logical components:\n",
        "• Sensors: Sensors are responsible for collecting data. The input for a sensor\n",
        "may be any part of a system that could contain evidence of an intrusion.\n",
        "Types of input to a sensor includes network packets, log files, and system call\n",
        "traces. Sensors collect and forward this information to the analyzer.\n",
        "• Analyzers: Analyzers receive input from one or more sensors or from other\n",
        "analyzers. The analyzer is responsible for determining if an intrusion has\n",
        "occurred. The output of this component is an indication that an intrusion has\n",
        "occurred. The output may include evidence supporting the conclusion that an\n",
        "intrusion occurred. The analyzer may provide guidance about what actions to\n",
        "take as a result of the intrusion. The sensor inputs may also be stored for\n",
        "future analysis and review in a storage or database component.\n",
        "• User interface: The user interface to an IDS enables a user to view output\n",
        "from the system or control the behavior of the system. In some systems, the\n",
        "user interface may equate to a manager, director, or console component\n",
        "\n",
        "• Intrusion detection is based on the assumption that the behavior of the\n",
        "intruder differs from that of a legitimate user in ways that can be quantified. Of course, we cannot expect that there will be a crisp, exact distinction between an attack by an intruder and the normal use of resources by an authorized user. Rather, we must expect that there will be\n",
        "some overlap.\n",
        "• Although the typical behavior of an intruder differs from the typical behavior of an authorized user, there is an overlap in these behaviors. Thus, a loose interpretation of intruder behavior, which will catch more\n",
        "intruders, will also lead to a number of false positives, or false alarms,\n",
        "where authorized users are identified as intruders. On the other hand, an\n",
        "attempt to limit false positives by a tight interpretation of intruder behavior will lead to an increase in false negatives, or intruders not\n",
        "identified as intruders.\n",
        "\n",
        "• To be of practical use, an IDS should detect a substantial percentage\n",
        "of intrusions while keeping the false alarm rate at an acceptable\n",
        "level. If only a modest percentage of actual intrusions are detected,\n",
        "the system provides a false sense of security. On the other hand, if\n",
        "the system frequently triggers an alert when there is no intrusion (a\n",
        "false alarm), then either system managers will begin to ignore the\n",
        "alarms, or much time will be wasted analyzing the false alarms.\n",
        "• Unfortunately, because of the nature of the probabilities involved, it\n",
        "is very difficult to meet the standard of high rate of detections with a\n",
        "low rate of false alarms. In general, if the actual numbers of\n",
        "intrusions is low compared to the number of legitimate uses of a\n",
        "system, then the false alarm rate will be high unless the test is\n",
        "extremely discriminating. This is an example of a phenomenon\n",
        "known as the base-rate fallacy.\n",
        "\n",
        "Analysis Approaches\n",
        "\n",
        "IDSs typically use one of the following alternative approaches to analyze\n",
        "sensor data to detect intrusions:\n",
        "1. Anomaly detection: Involves the collection of data relating to the behavior\n",
        "of legitimate users over a period of time. Then current observed behavior is\n",
        "analyzed to determine with a high level of confidence whether this behavior\n",
        "is that of a legitimate user or alternatively that of an intruder.\n",
        "2. Signature or Heuristic detection: Uses a set of known malicious data\n",
        "patterns (signatures) or attack rules (heuristics) that are compared with\n",
        "current behavior to decide if is that of an intruder. It is also known as misuse\n",
        "detection. This approach can only identify known attacks for which it has\n",
        "patterns or rules.\n",
        "\n",
        "• The anomaly detection approach involves first developing a model of legitimate user behavior by collecting and processing sensor data from the normal operation of the monitored system in a training phase. This may occur at distinct times, or\n",
        "there may be a continuous process of monitoring and evolving the model over\n",
        "time.\n",
        "A variety of classification approaches are used, which broadly categorized as:\n",
        "• Statistical: Statistical approaches use the captured sensor data to develop a\n",
        "statistical profile of the observed metrics. Analysis of the observed behavior using univariate, multivariate, or time-series models of observed metrics.\n",
        "• Knowledge based: Knowledge based approaches classify the observed data using a\n",
        "set of rules. These rules are developed during the training phase, usually manually, to\n",
        "characterize the observed training data into distinct classes. Formal tools may be used to describe these rules, such as a finite-state machine or a standard description\n",
        "language. Approaches use an expert system that classifies observed behavior according to a set of rules that model legitimate behavior.\n",
        "• Machine-learning: Machine-learning approaches use data mining techniques to\n",
        "automatically develop a model using the labeled normal training data. This model is\n",
        "then able to classify subsequently observed data as either normal or anomalous. Approaches automatically determine a suitable classifica tion model from the training data using data mining techniques.\n",
        "\n",
        "Signature Detection\n",
        "• Signature approaches match a large collection of known patterns of\n",
        "malicious data against data stored on a system or in transit over a\n",
        "network. The signatures need to be large enough to minimize the\n",
        "false alarm rate, while still detecting a sufficiently large fraction of\n",
        "malicious data. This approach is widely used in anti virus products, in\n",
        "network traffic scanning proxies, and in NIDS.\n",
        "\n",
        "• The advantages of this approach include the relatively low cost in\n",
        "time and resource use, and its wide acceptance. • Disadvantages include the significant effort required to constantly\n",
        "identify and review new malware to create signatures able to identify\n",
        "it, and the inability to detect zero-day attacks for which no signatures\n",
        "exist.\n",
        "\n",
        "IDSs are often classified based on the source\n",
        "and type of data analyzed, as:\n",
        "• Host-based IDS (HIDS): Monitors the characteristics of a single host\n",
        "and the events occurring within that host, such as process identifiers\n",
        "and the system calls they make, for evidence of suspicious activity.\n",
        "• Network-based IDS (NIDS): Monitors network traffic for particular\n",
        "network segments or devices and analyzes network, transport, and\n",
        "application protocols to identify suspicious activity.\n",
        "• Distributed or hybrid IDS: Combines information from a number of\n",
        "sensors, often both host and network-based, in a central analyzer that\n",
        "is able to better identify and respond to intrusion activity\n",
        "\n",
        "Host Based Intrusion Detection\n",
        "\n",
        "A Host-Based Intrusion Detection System (HIDS) is a security tool that\n",
        "monitors and analyzes activities on a specific computer or endpoint to\n",
        "detect and alert on potential security breaches or malicious activities\n",
        "HIDS systems are so-named because they operate on individual host\n",
        "systems. In this context, a host could be a server, a PC, or any other\n",
        "type of device that produces logs, metrics, and other data that can be\n",
        "monitored for security purposes.\n",
        "\n",
        "What it Does:\n",
        "•Monitors Host Activity:\n",
        "HIDS software, often deployed as an agent on individual hosts, continuously\n",
        "monitors system events, logs, and network traffic related to that specific host.\n",
        "•Detects Suspicious Behavior:\n",
        "It analyzes this activity to identify patterns or events that could indicate an\n",
        "intrusion, unauthorized access, or malicious activity.\n",
        "•Examples of Monitored Activities:\n",
        "•File access and modifications\n",
        "•Registry changes\n",
        "•Process execution\n",
        "•Network traffic on the host's network interface\n",
        "•System logs\n",
        "\n",
        "•Alerts and Notifications:\n",
        "When suspicious activity is detected, the\n",
        "HIDS generates alerts or notifications to\n",
        "inform security personnel or administrators.\n",
        "•Used in conjunction with other security\n",
        "measures:\n",
        "HIDS is often used alongside other security\n",
        "tools, such as network intrusion detection\n",
        "systems (NIDS) and intrusion prevention\n",
        "systems (IPS).\n",
        "\n",
        "•Signature-based Detection:\n",
        "HIDS can use a database of known attack signatures to identify malicious patterns.\n",
        "•Anomaly-based Detection:\n",
        "It can also monitor baseline behavior and flag deviations from the norm as\n",
        "potential threats.\n",
        "The primary benefit of a HIDS is that it can detect both external and internal intrusions, something that\n",
        "is not possible either with network-based IDSs or fire walls.\n",
        "As we discuss in the previous section, host-based IDSs can use either anomaly or signature and\n",
        "heuristic approaches to detect unauthorized behavior on the moni tored host.\n",
        "\n",
        "DataSources and Sensors\n",
        "\n",
        "A fundamental component of intrusion detection is the sensor that collects\n",
        "data. Some record of ongoing activity by users must be provided as input to\n",
        "the analysis component of the IDS.\n",
        "• System call traces\n",
        "• Audit (log file) records\n",
        "• File integrity checksums\n",
        "• Registry access\n",
        "The sensor gathers data from the chosen source, filters the gathered data to\n",
        "remove any unwanted information and to standardize the information\n",
        "format, and forwards the result to the IDS analyzer, which may be local or\n",
        "remote\n",
        "\n",
        "Distributed HIDS\n",
        "\n",
        "• Traditionally, work on host-based IDSs focused on single-system stand-\n",
        "alone operation. The typical organization, however, needs to defend a\n",
        "\n",
        "distributed collection of hosts supported by a LAN or internetwork.\n",
        "Although it is possible to mount a defense by using stand-alone IDSs on\n",
        "each host, a more effective defense can be achieved by coordination\n",
        "and cooperation among IDSs across the network\n",
        "\n",
        "Major issues in the design of a distributed IDS\n",
        "• A distributed IDS may need to deal with different sensor data formats.\n",
        "• One or more nodes in the network will serve as collection and analysis\n",
        "points for the data from the systems on the network. Thus, either raw\n",
        "sensor data or summary data must be transmitted across the network.\n",
        "Therefore, there is a requirement to assure the integrity and\n",
        "confidentiality of these data.\n",
        "• With a centralized architecture, there is a single central point of\n",
        "collection and analysis of all sensor data. This eases the task of\n",
        "correlating incoming reports but creates a potential bottleneck and\n",
        "single point of failure. With a decentralized architecture, there is more\n",
        "than one analysis center, but these must coordinate their activities and\n",
        "exchange information.\n",
        "\n",
        "Architecture for Distributed Intrusion\n",
        "Detection\n",
        "\n",
        "Three main components:\n",
        "1. Host agent module: An audit collection module operating as a\n",
        "background process on a monitored system. Its purpose is to collect\n",
        "data on security- related events on the host and transmit these to the\n",
        "central manager. Figure shows details of the agent module\n",
        "architecture.\n",
        "2. LAN monitor agent module: Operates in the same fashion as a host\n",
        "agent module except that it analyzes LAN traffic and reports the results to\n",
        "the cen tral manager.\n",
        "3. Central manager module: Receives reports from LAN monitor and host\n",
        "agents and processes and correlates these reports to detect intrusion\n",
        "\n",
        "Agent Architecture\n",
        "\n",
        "• The agent captures each audit record produced by the native audit\n",
        "collection system. A filter is applied that retains only those records that\n",
        "are of security interest. These records are then reformatted into a\n",
        "standardized format referred to as the host audit record (HAR).\n",
        "• Next, a template-driven logic module analyzes the records for\n",
        "suspicious activity. At the lowest level, the agent scans for notable\n",
        "events that are of interest independent of any past events. Examples\n",
        "include failed files, accessing system files, and changing a file’s access\n",
        "control.\n",
        "• At the next higher level, the agent looks for sequences of events, such\n",
        "as known attack patterns (signatures). Finally, the agent looks for\n",
        "anomalous behavior of an individual user based on a historical profile\n",
        "of that user, such as number of programs executed, number of files\n",
        "accessed, and the like.\n",
        "\n",
        "• When suspicious activity is detected, an alert is sent to the central\n",
        "manager. The central manager includes an expert system that can\n",
        "draw inferences from received data. The manager may also query\n",
        "individual systems for copies of HARs to correlate with those from\n",
        "other agents.\n",
        "• The LAN monitor agent also supplies information to the central\n",
        "manager. The LAN monitor agent audits host-host connections,\n",
        "services used, and volume of traffic. It searches for significant events,\n",
        "such as sudden changes in network load, the use of security-related\n",
        "services, and suspicious network activities.\n",
        "\n",
        "Network Based Intrution Detection\n",
        "\n",
        "• A network-based IDS (NIDS) monitors traffic at selected points on a\n",
        "network or interconnected set of networks.\n",
        "• The NIDS examines the traffic packet by packet in real time, or close\n",
        "to real time, to attempt to detect intrusion patterns.\n",
        "• The NIDS may examine network-, transport-, and/or application-level\n",
        "protocol activity\n",
        "• A typical NIDS facility includes a number of sensors to monitor packet\n",
        "traffic, one or more servers for NIDS management functions, and one\n",
        "or more management consoles for the human interface\n",
        "\n",
        "Types of Network Sensors\n",
        "• Sensors can be deployed in one of two modes: inline and passive. • An inline sensor is inserted into a network segment so that the traffic\n",
        "that it is monitoring must pass through the sensor. One way to achieve\n",
        "an inline sensor is to combine NIDS sensor logic with another network\n",
        "device, such as a firewall or a LAN switch. This approach has the\n",
        "advantage that no additional separate hardware devices are needed; all\n",
        "that is required is NIDS sensor software.\n",
        "• . An alternative is a stand-alone inline NIDS sensor. The primary\n",
        "motivation for the use of inline sensors is to enable them to block an\n",
        "attack when one is detected. In this case the device is performing both\n",
        "intrusion detection and intrusion prevention functions.\n",
        "\n",
        "A passive sensor monitors a copy of network traffic; the actual traffic\n",
        "does not pass through the device. From the point of view of traffic flow,\n",
        "the passive sensor is more efficient than the inline sensor, because it\n",
        "does not add an extra handling step that contributes to packet delay.\n",
        ".The sensor con nects to the network transmission medium, such as a\n",
        "fiber optic cable, by a direct physical tap. The tap provides the sensor\n",
        "with a copy of all network traffic being carried by the medium. The\n",
        "network interface card (NIC) for this tap usually does not have an IP\n",
        "address configured for it. All traffic into this NIC is simply collected with\n",
        "no protocol interaction with the network\n",
        "\"\"\"\n",
        "\n",
        "# Wrap your text in a Document object\n",
        "docs = [Document(page_content=manual_text)]"
      ],
      "metadata": {
        "id": "-NZps104c8WN"
      },
      "execution_count": null,
      "outputs": []
    },
    {
      "cell_type": "code",
      "source": [
        "text_splitter = RecursiveCharacterTextSplitter(chunk_size=500, chunk_overlap=100)\n",
        "chunks = text_splitter.split_documents(docs)"
      ],
      "metadata": {
        "id": "2wYzCQLjkOFA"
      },
      "execution_count": null,
      "outputs": []
    },
    {
      "cell_type": "code",
      "source": [
        "embedding_model = HuggingFaceEmbeddings(model_name=\"sentence-transformers/all-MiniLM-L6-v2\")"
      ],
      "metadata": {
        "colab": {
          "base_uri": "https://localhost:8080/"
        },
        "id": "FgizT7k4kOjx",
        "outputId": "f56863ea-ee16-4e43-85d7-9b27ab68d70f"
      },
      "execution_count": null,
      "outputs": [
        {
          "output_type": "stream",
          "name": "stderr",
          "text": [
            "/tmp/ipython-input-412152783.py:1: LangChainDeprecationWarning: The class `HuggingFaceEmbeddings` was deprecated in LangChain 0.2.2 and will be removed in 1.0. An updated version of the class exists in the :class:`~langchain-huggingface package and should be used instead. To use it run `pip install -U :class:`~langchain-huggingface` and import as `from :class:`~langchain_huggingface import HuggingFaceEmbeddings``.\n",
            "  embedding_model = HuggingFaceEmbeddings(model_name=\"sentence-transformers/all-MiniLM-L6-v2\")\n"
          ]
        }
      ]
    },
    {
      "cell_type": "code",
      "source": [
        "vectorstore = FAISS.from_documents(chunks, embedding_model)"
      ],
      "metadata": {
        "id": "JAFx1b9CkRtJ"
      },
      "execution_count": null,
      "outputs": []
    },
    {
      "cell_type": "code",
      "source": [
        "from transformers import pipeline\n",
        "\n",
        "# Load text2text model from Hugging Face\n",
        "generator = pipeline(\"text2text-generation\", model=\"google/flan-t5-base\", temperature=0.7)"
      ],
      "metadata": {
        "id": "mDqBEQkxpKKe"
      },
      "execution_count": null,
      "outputs": []
    },
    {
      "cell_type": "code",
      "source": [
        "llm=HuggingFacePipeline(pipeline=generator)"
      ],
      "metadata": {
        "colab": {
          "base_uri": "https://localhost:8080/"
        },
        "id": "o0jYfBFltaFw",
        "outputId": "bbc8622a-5e3d-4ac9-9d01-8c53afcce6c6"
      },
      "execution_count": null,
      "outputs": [
        {
          "output_type": "stream",
          "name": "stderr",
          "text": [
            "/tmp/ipython-input-3653542328.py:1: LangChainDeprecationWarning: The class `HuggingFacePipeline` was deprecated in LangChain 0.0.37 and will be removed in 1.0. An updated version of the class exists in the :class:`~langchain-huggingface package and should be used instead. To use it run `pip install -U :class:`~langchain-huggingface` and import as `from :class:`~langchain_huggingface import HuggingFacePipeline``.\n",
            "  llm=HuggingFacePipeline(pipeline=generator)\n"
          ]
        }
      ]
    },
    {
      "cell_type": "code",
      "source": [
        "retriever= vectorstore.as_retriever()\n",
        "qa_chain = load_qa_chain(llm, chain_type=\"stuff\")"
      ],
      "metadata": {
        "colab": {
          "base_uri": "https://localhost:8080/"
        },
        "id": "-zsGmHcDsUcr",
        "outputId": "b2887309-c11d-49e7-b32d-d90098414712"
      },
      "execution_count": null,
      "outputs": [
        {
          "output_type": "stream",
          "name": "stderr",
          "text": [
            "/tmp/ipython-input-849363612.py:2: LangChainDeprecationWarning: This class is deprecated. See the following migration guides for replacements based on `chain_type`:\n",
            "stuff: https://python.langchain.com/docs/versions/migrating_chains/stuff_docs_chain\n",
            "map_reduce: https://python.langchain.com/docs/versions/migrating_chains/map_reduce_chain\n",
            "refine: https://python.langchain.com/docs/versions/migrating_chains/refine_chain\n",
            "map_rerank: https://python.langchain.com/docs/versions/migrating_chains/map_rerank_docs_chain\n",
            "\n",
            "See also guides on retrieval and question-answering here: https://python.langchain.com/docs/how_to/#qa-with-rag\n",
            "  qa_chain = load_qa_chain(llm, chain_type=\"stuff\")\n"
          ]
        }
      ]
    },
    {
      "cell_type": "code",
      "source": [
        "def qa(query):\n",
        "    docs = retriever.get_relevant_documents(query)\n",
        "    answer = qa_chain.run(input_documents=docs, question=query)\n",
        "    return answer"
      ],
      "metadata": {
        "id": "9tts5sKTvp_0"
      },
      "execution_count": null,
      "outputs": []
    },
    {
      "cell_type": "code",
      "source": [
        "while True:\n",
        "    query = input(\"Enter your query: \")\n",
        "    if query == \"exit\":\n",
        "        break\n",
        "    answer=qa(query)\n",
        "    print(answer)"
      ],
      "metadata": {
        "colab": {
          "base_uri": "https://localhost:8080/"
        },
        "id": "0A5Iln-AnFes",
        "outputId": "301284b4-ff8f-4b7b-94ff-9ecdc08c8423"
      },
      "execution_count": null,
      "outputs": [
        {
          "name": "stdout",
          "output_type": "stream",
          "text": [
            "Enter your query: explain intrusion\n"
          ]
        },
        {
          "output_type": "stream",
          "name": "stderr",
          "text": [
            "/tmp/ipython-input-3877231463.py:2: LangChainDeprecationWarning: The method `BaseRetriever.get_relevant_documents` was deprecated in langchain-core 0.1.46 and will be removed in 1.0. Use :meth:`~invoke` instead.\n",
            "  docs = retriever.get_relevant_documents(query)\n",
            "/tmp/ipython-input-3877231463.py:3: LangChainDeprecationWarning: The method `Chain.run` was deprecated in langchain 0.1.0 and will be removed in 1.0. Use :meth:`~invoke` instead.\n",
            "  answer = qa_chain.run(input_documents=docs, question=query)\n"
          ]
        },
        {
          "name": "stdout",
          "output_type": "stream",
          "text": [
            "Examples of Intrusion Detection Intrusion detection is based on the assumption that the behavior of the intruder differs from that of a legitimate user in ways that can be quantified. Of course, we cannot expect that there will be a crisp, exact distinction between an attack by an intruder and the normal use of resources by an authorized user in ways that can be quantified. Of course, we cannot expect that there will be a crisp, exact distinction between an attack by an intruder and the normal use of resources by an authorized user in ways that can be quantified. Of course, we cannot expect that there will be a crisp, exact distinction between an attack by an intruder and the normal use of resources by an authorized user in ways that can be quantified. Of course, we cannot expect that there will be a crisp, exact distinction between an attack by an intruder and the normal use of resources by an authorized user in ways that can be quantified.\n",
            "Enter your query: exit\n"
          ]
        }
      ]
    },
    {
      "cell_type": "code",
      "source": [],
      "metadata": {
        "id": "GWewIMOWn6yS"
      },
      "execution_count": null,
      "outputs": []
    }
  ]
}