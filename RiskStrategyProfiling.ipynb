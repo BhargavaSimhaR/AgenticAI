{
  "nbformat": 4,
  "nbformat_minor": 0,
  "metadata": {
    "colab": {
      "provenance": [],
      "authorship_tag": "ABX9TyOtmpKNSWBd/IBUWlapNWJO",
      "include_colab_link": true
    },
    "kernelspec": {
      "name": "python3",
      "display_name": "Python 3"
    },
    "language_info": {
      "name": "python"
    }
  },
  "cells": [
    {
      "cell_type": "markdown",
      "metadata": {
        "id": "view-in-github",
        "colab_type": "text"
      },
      "source": [
        "<a href=\"https://colab.research.google.com/github/BhargavaSimhaR/AgenticAI/blob/main/RiskStrategyProfiling.ipynb\" target=\"_parent\"><img src=\"https://colab.research.google.com/assets/colab-badge.svg\" alt=\"Open In Colab\"/></a>"
      ]
    },
    {
      "cell_type": "code",
      "source": [
        "import os\n",
        "from getpass import getpass\n",
        "\n",
        "os.environ[\"TOGETHER_API_KEY\"] = \"d0c1567936163f51b02e4eeb91350498a64a9aaac7735b2ef7a8c87e96a88dc3\""
      ],
      "metadata": {
        "id": "s3JsocBe7c7F"
      },
      "execution_count": 58,
      "outputs": []
    },
    {
      "cell_type": "code",
      "source": [
        "from langchain_together.chat_models import ChatTogether\n",
        "from langgraph.graph import StateGraph, END\n",
        "from typing import TypedDict\n",
        "from langchain_core.output_parsers import StrOutputParser\n",
        "import os\n",
        "from getpass import getpass\n",
        "\n",
        "# Shared State\n",
        "class GraphState(TypedDict):\n",
        "    user_input: str\n",
        "    risk_profile: str\n",
        "    strategy: str\n",
        "    explanation: str\n",
        "\n",
        "# Init Together LLM\n",
        "llm = ChatTogether(\n",
        "    model=\"mistralai/Mistral-7B-Instruct-v0.2\",\n",
        "    temperature=0.5,\n",
        ")\n",
        "\n",
        "from langchain_core.prompts import PromptTemplate\n",
        "from langchain_core.runnables import Runnable\n",
        "\n",
        "# Template for explanation\n",
        "def generate_explanation(state: GraphState) -> dict:\n",
        "    explanation_prompt = PromptTemplate.from_template(\n",
        "    \"\"\"\n",
        "    You are a financial advisor bot. A user has the following profile:\n",
        "\n",
        "    User Input: {user_input}\n",
        "    Risk Profile: {risk_profile}\n",
        "    Suggested Investment Plan: {strategy}\n",
        "\n",
        "    Write a brief explanation (2-4 lines) justifying this investment plan for the user.\n",
        "    \"\"\"\n",
        "    )\n",
        "\n",
        "    explanation= llm.invoke(explanation_prompt.format(**state)).content\n",
        "    return {**state, \"explanation\": explanation}\n",
        "\n",
        "\n",
        "# Node 1: Risk Profiling\n",
        "def risk_profile_node(state: GraphState) -> GraphState:\n",
        "    prompt = f\"\"\"Based on the following user details, classify the risk profile as exactly one of: Low, Medium, High.\n",
        "\n",
        "User details: {state['user_input']}\n",
        "\n",
        "Just reply with: Low, Medium, or High.\"\"\"\n",
        "\n",
        "    response = llm.invoke(prompt).content.strip().lower()\n",
        "\n",
        "    if \"low\" in response:\n",
        "        risk = \"Low\"\n",
        "    elif \"high\" in response:\n",
        "        risk = \"High\"\n",
        "    else:\n",
        "        risk = \"Medium\"\n",
        "\n",
        "    return {**state, \"risk_profile\": risk}\n",
        "\n",
        "# Node 2: Route to correct strategy\n",
        "def route_based_on_risk(state: GraphState) -> str:\n",
        "    return state[\"risk_profile\"]  # Should be exactly Low / Medium / High\n",
        "\n",
        "# Node 3: Strategy Nodes\n",
        "def low_risk_strategy(state: GraphState) -> GraphState:\n",
        "    return {**state, \"strategy\": \"60% Fixed Deposits, 20% Bonds, 10% Mutual Funds, 10% Gold\"}\n",
        "\n",
        "def medium_risk_strategy(state: GraphState) -> GraphState:\n",
        "    return {**state, \"strategy\": \"40% Mutual Funds, 30% Stocks, 15% Gold, 15% Real Estate\"}\n",
        "\n",
        "def high_risk_strategy(state: GraphState) -> GraphState:\n",
        "    return {**state, \"strategy\": \"70% Stocks, 20% Crypto, 10% Mutual Funds\"}\n",
        "\n",
        "# Node 4: Format Output\n",
        "def format_output(state: GraphState) -> GraphState:\n",
        "    return {**state, \"strategy\": f\"\"\"\n",
        "✅ Investment Plan:\n",
        "- Risk Profile: {state['risk_profile']}\n",
        "- Suggested Allocation: {state['strategy']}\n",
        "\n",
        "✅ Explanation:\n",
        "{state['explanation']}\n",
        "\"\"\"}\n",
        "\n",
        "# Define LangGraph\n",
        "builder = StateGraph(GraphState)\n",
        "\n",
        "builder.set_entry_point(\"risk_profiling\")\n",
        "\n",
        "# Add all nodes\n",
        "builder.add_node(\"risk_profiling\", risk_profile_node)\n",
        "builder.add_node(\"low_risk_strategy\", low_risk_strategy)\n",
        "builder.add_node(\"medium_risk_strategy\", medium_risk_strategy)\n",
        "builder.add_node(\"high_risk_strategy\", high_risk_strategy)\n",
        "builder.add_node(\"generate_explanation\", generate_explanation)\n",
        "builder.add_node(\"format_output\", format_output)\n",
        "\n",
        "# Add conditional edges\n",
        "builder.add_conditional_edges(\n",
        "    \"risk_profiling\",\n",
        "    route_based_on_risk,\n",
        "    {\n",
        "        \"Low\": \"low_risk_strategy\",\n",
        "        \"Medium\": \"medium_risk_strategy\",\n",
        "        \"High\": \"high_risk_strategy\",\n",
        "    },\n",
        ")\n",
        "\n",
        "# Connect strategy nodes to output\n",
        "builder.add_edge(\"low_risk_strategy\", \"generate_explanation\")\n",
        "builder.add_edge(\"medium_risk_strategy\", \"generate_explanation\")\n",
        "builder.add_edge(\"high_risk_strategy\", \"generate_explanation\")\n",
        "builder.add_edge(\"generate_explanation\", \"format_output\")\n",
        "builder.add_edge(\"format_output\", END)\n",
        "\n",
        "# Compile\n",
        "app = builder.compile()"
      ],
      "metadata": {
        "id": "PVS-ka7H93Rz"
      },
      "execution_count": 74,
      "outputs": []
    },
    {
      "cell_type": "code",
      "source": [
        "result = app.invoke({\n",
        "    \"user_input\": \"I'm 52, earn ₹1 Crore per month, and I want to retire in my early 80s with high returns.\"\n",
        "})\n",
        "\n",
        "print(result[\"strategy\"])"
      ],
      "metadata": {
        "colab": {
          "base_uri": "https://localhost:8080/"
        },
        "id": "rvTsS6skA2xl",
        "outputId": "49bd8f48-6e62-463c-fb39-7a1d01465bfe"
      },
      "execution_count": 90,
      "outputs": [
        {
          "output_type": "stream",
          "name": "stdout",
          "text": [
            "\n",
            "✅ Investment Plan:\n",
            "- Risk Profile: High\n",
            "- Suggested Allocation: 70% Stocks, 20% Crypto, 10% Mutual Funds\n",
            "            \n",
            "✅ Explanation:\n",
            " Given your age of 52, a high-risk profile, and the desire for high returns to support a retirement in your early 80s, we recommend an investment plan with a focus on growth. This plan suggests allocating 70% of your portfolio to stocks, which historically have provided the highest returns over the long term. Additionally, we've included 20% in crypto, a relatively high-risk asset class with significant growth potential, and 10% in mutual funds for diversification and stable returns. This strategy aims to maximize your potential for growth while managing risk through a balanced portfolio.\n",
            "\n"
          ]
        }
      ]
    },
    {
      "cell_type": "code",
      "source": [
        "from IPython.display import display,Image\n",
        "mermaid_diagram = app.get_graph().draw_mermaid_png()\n",
        "display(Image(mermaid_diagram))"
      ],
      "metadata": {
        "colab": {
          "base_uri": "https://localhost:8080/",
          "height": 572
        },
        "id": "EiXu-Rh5A-88",
        "outputId": "91cad988-cbf6-4a1a-c4c0-4e26b5081d00"
      },
      "execution_count": 96,
      "outputs": [
        {
          "output_type": "display_data",
          "data": {
            "image/png": "[encoded data removed]",
            "text/plain": [
              "<IPython.core.display.Image object>"
            ]
          },
          "metadata": {}
        }
      ]
    },
    {
      "cell_type": "code",
      "source": [],
      "metadata": {
        "id": "zV1cgCjFGBfL"
      },
      "execution_count": null,
      "outputs": []
    }
  ]
}